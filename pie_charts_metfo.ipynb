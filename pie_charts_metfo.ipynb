{
 "cells": [
  {
   "cell_type": "code",
   "execution_count": 317,
   "metadata": {},
   "outputs": [],
   "source": [
    "import pandas as pd\n",
    "import matplotlib.pyplot as plt\n"
   ]
  },
  {
   "cell_type": "code",
   "execution_count": 318,
   "metadata": {},
   "outputs": [],
   "source": [
    "# Column Sort Function\n",
    "def sort_col(df, col_name: str):\n",
    "    return df.sort_values(by=[col_name])"
   ]
  },
  {
   "cell_type": "code",
   "execution_count": 319,
   "metadata": {},
   "outputs": [
    {
     "name": "stdout",
     "output_type": "stream",
     "text": [
      "            Lab  Experimenter   Compound Concentration Units      Species  \\\n",
      "0      DRISCOLL            16   CTRL_H2O            x0    μM  C. BRIGGSAE   \n",
      "1      DRISCOLL            16   CTRL_H2O            x0    μM  C. BRIGGSAE   \n",
      "2      DRISCOLL            16   CTRL_H2O            x0    μM  C. BRIGGSAE   \n",
      "3      DRISCOLL            16   CTRL_H2O            x0    μM  C. BRIGGSAE   \n",
      "4      DRISCOLL            16   CTRL_H2O            x0    μM  C. BRIGGSAE   \n",
      "...         ...           ...        ...           ...   ...          ...   \n",
      "31283  PHILLIPS             9  METFORMIN        x70000    μM   C. ELEGANS   \n",
      "31284  PHILLIPS             9  METFORMIN        x70000    μM   C. ELEGANS   \n",
      "31285  PHILLIPS             9  METFORMIN        x70000    μM   C. ELEGANS   \n",
      "31286  PHILLIPS             9  METFORMIN        x70000    μM   C. ELEGANS   \n",
      "31287  PHILLIPS             9  METFORMIN        x70000    μM   C. ELEGANS   \n",
      "\n",
      "      Strain Thaw Date Start Date        Plate_Title   PlateID  Age at Death  \\\n",
      "0       AF16    2/1/19     3/8/19      AF16_DH2O_2_1  50136410            10   \n",
      "1       AF16    2/1/19     3/8/19      AF16_DH2O_2_1  50136410            10   \n",
      "2       AF16    2/1/19     3/8/19      AF16_DH2O_2_1  50136410            12   \n",
      "3       AF16    2/1/19     3/8/19      AF16_DH2O_2_1  50136410            12   \n",
      "4       AF16    2/1/19     3/8/19      AF16_DH2O_2_1  50136410            12   \n",
      "...      ...       ...        ...                ...       ...           ...   \n",
      "31283   MY16    6/4/18    7/20/18  MY16_METFO_70MM_2  50126210            28   \n",
      "31284   MY16    6/4/18    7/20/18  MY16_METFO_70MM_2  50126210            28   \n",
      "31285   MY16    6/4/18    7/20/18  MY16_METFO_70MM_2  50126210            28   \n",
      "31286   MY16    6/4/18    7/20/18  MY16_METFO_70MM_2  50126210            28   \n",
      "31287   MY16    6/4/18    7/20/18  MY16_METFO_70MM_2  50126210            28   \n",
      "\n",
      "       Dead  Censor Reason for Censor  Temperature  DeathNoCen  \\\n",
      "0         0       1              lost         20.0         NaN   \n",
      "1         0       1              lost         20.0         NaN   \n",
      "2         0       1              lost         20.0         NaN   \n",
      "3         0       1              lost         20.0         NaN   \n",
      "4         0       1              lost         20.0         NaN   \n",
      "...     ...     ...               ...          ...         ...   \n",
      "31283     1       0               NaN         20.0        28.0   \n",
      "31284     1       0               NaN         20.0        28.0   \n",
      "31285     1       0               NaN         20.0        28.0   \n",
      "31286     1       0               NaN         20.0        28.0   \n",
      "31287     1       0               NaN         20.0        28.0   \n",
      "\n",
      "         Experiment Name  Experimenter for observation                 Merged  \n",
      "0              DS_030819                            16       AF16_CTRL_H2O_x0  \n",
      "1              DS_030819                            16       AF16_CTRL_H2O_x0  \n",
      "2              DS_030819                            16       AF16_CTRL_H2O_x0  \n",
      "3              DS_030819                            16       AF16_CTRL_H2O_x0  \n",
      "4              DS_030819                            16       AF16_CTRL_H2O_x0  \n",
      "...                  ...                           ...                    ...  \n",
      "31283  PS_072018_METFO_9                             9  MY16_METFORMIN_x70000  \n",
      "31284  PS_072018_METFO_9                             9  MY16_METFORMIN_x70000  \n",
      "31285  PS_072018_METFO_9                             9  MY16_METFORMIN_x70000  \n",
      "31286  PS_072018_METFO_9                             9  MY16_METFORMIN_x70000  \n",
      "31287  PS_072018_METFO_9                             9  MY16_METFORMIN_x70000  \n",
      "\n",
      "[31288 rows x 20 columns]\n",
      "             Compounds  Counts\n",
      "Metaformin  Metaformin   20784\n",
      "H2O                H2O   10504\n"
     ]
    },
    {
     "data": {
      "image/png": "[encoded data removed]",
      "text/plain": [
       "<Figure size 640x480 with 1 Axes>"
      ]
     },
     "metadata": {},
     "output_type": "display_data"
    }
   ],
   "source": [
    "# Compounds Pie Chart\n",
    "df_metfo = pd.read_csv(\"/Users/phillipscitp/Desktop/CITP-Portal/metfo_lifespan-Table 1.csv\")\n",
    "print(df_metfo)\n",
    "comps = sort_col(df_metfo, \"Compound\").loc[:, \"Compound\"]\n",
    "metaformin = 0\n",
    "h20 = 0\n",
    "for comp in comps:\n",
    "    if comp == \"METFORMIN\":\n",
    "        metaformin += 1\n",
    "for comp in comps:\n",
    "    if comp == \"CTRL_H2O\":\n",
    "        h20 += 1\n",
    "dc_comps = {\"Compounds\": [\"Metaformin\", \"H2O\"], \"Counts\": [metaformin, h20]}\n",
    "df_comps = pd.DataFrame(dc_comps, index=[\"Metaformin\", \"H2O\"])\n",
    "print(df_comps)\n",
    "df_comps.plot.pie(y='Counts', title=\"Compounds\", legend=False, \\\n",
    "                    autopct='%1.1f%%', explode=(0, 0), \\\n",
    "                    shadow=True, startangle=0) #(kind='pie', y=\"Percentages\", figsize=(5, 5))\n",
    "plt.show()\n",
    "\n",
    "\n",
    "\n"
   ]
  },
  {
   "cell_type": "code",
   "execution_count": 320,
   "metadata": {},
   "outputs": [
    {
     "name": "stdout",
     "output_type": "stream",
     "text": [
      "Strain\n",
      "AF16         3735\n",
      "ED3092       3199\n",
      "HK104        3093\n",
      "JU1373       3703\n",
      "JU1630       3058\n",
      "JU775        3985\n",
      "MY16         3726\n",
      "N2_PD1073    4269\n",
      "QG834        2520\n",
      "Name: 0, dtype: int64\n"
     ]
    }
   ],
   "source": [
    "# Strains Pie Chart\n",
    "strains = sort_col(df_metfo, \"Strain\")\n",
    "#print(strains)\n",
    "unique_strains = []\n",
    "for strain in strains[\"Strain\"]:\n",
    "    if strain not in unique_strains:\n",
    "        unique_strains.append(strain)\n",
    "# print(unique_strains)\n",
    "strains_df = strains.groupby(\"Strain\").size()\n",
    "strains_df = strains_df.to_frame()\n",
    "print(strains_df.iloc[:, 0])\n",
    "\n",
    "\n",
    "\n",
    "\n",
    "\n"
   ]
  }
 ],
 "metadata": {
  "kernelspec": {
   "display_name": "base",
   "language": "python",
   "name": "python3"
  },
  "language_info": {
   "codemirror_mode": {
    "name": "ipython",
    "version": 3
   },
   "file_extension": ".py",
   "mimetype": "text/x-python",
   "name": "python",
   "nbconvert_exporter": "python",
   "pygments_lexer": "ipython3",
   "version": "3.9.13"
  },
  "orig_nbformat": 4,
  "vscode": {
   "interpreter": {
    "hash": "c3ea7353120d257ead15cc095d96800a69a3675118d45b91ad16c30b87e3c61c"
   }
  }
 },
 "nbformat": 4,
 "nbformat_minor": 2
}
